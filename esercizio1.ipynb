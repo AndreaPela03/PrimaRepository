{
 "cells": [
  {
   "cell_type": "code",
   "execution_count": 6,
   "metadata": {},
   "outputs": [],
   "source": [
    "import numpy as np"
   ]
  },
  {
   "cell_type": "code",
   "execution_count": 7,
   "metadata": {},
   "outputs": [],
   "source": [
    "def matrix(n):\n",
    "    board = np.zeros(( 2*n + 1, 2*n + 1),int)\n",
    "    board[n][n] = 1\n",
    "    flag = 1\n",
    "    for i in range (1,n+1): \n",
    "        for j in range (0,2*i):\n",
    "            flag += 1          \n",
    "            board[n-j+i-1][n+i] = flag\n",
    "        for j in range (0,2*i):\n",
    "            flag += 1\n",
    "            board[n-i][n+i-j-1] = flag\n",
    "        for j in range (0,2*i):\n",
    "            flag += 1\n",
    "            board[n-i+j+1][n-i] = flag\n",
    "        for j in range (0,2*i):\n",
    "            flag += 1\n",
    "            board[n+i][n-i+j+1] = flag\n",
    "    return board\n",
    "\n",
    "def walk(board):\n",
    "      \n",
    "    reference = len(board)\n",
    "    c = (reference-1) / 2                        \n",
    "    current_position = (c,c)\n",
    "    moves = (-1,-2), (-1,2), (1,-2), (1,2), (-2,-1), (-2,1), (2,-1), (2,1)   \n",
    "    sequence = [board[int(current_position[0]), int(current_position[1])]]       \n",
    "    x_coordinates = [c]          \n",
    "    y_coordinates = [c]\n",
    "    counter_invalid_moves = 0\n",
    "    while counter_invalid_moves < len(moves):\n",
    "        temp_min_value_move = pow(reference,2)\n",
    "\n",
    "        for i in range(len(moves)):\n",
    "\n",
    "            temp_x_coordinate_i = int(current_position[0]) + int(moves[i][0])\n",
    "            temp_y_coordinate_i = int(current_position[1]) + int(moves[i][1])\n",
    "            \n",
    "            if ( 0 <= temp_x_coordinate_i < reference ) and ( 0 <=  temp_y_coordinate_i < reference ):\n",
    "\n",
    "                temp_value_at_i_move = board[temp_x_coordinate_i, temp_y_coordinate_i]\n",
    "\n",
    "                if ( temp_value_at_i_move <= temp_min_value_move ) and ( temp_value_at_i_move not in(sequence) ):\n",
    "                    counter_invalid_moves = 0\n",
    "                    temp_min_value_move = temp_value_at_i_move\n",
    "                    i_chosen_move = i\n",
    "                else:\n",
    "                    counter_invalid_moves += 1\n",
    "            else:\n",
    "                counter_invalid_moves += 1\n",
    "        if counter_invalid_moves < len(moves):\n",
    "            temp_x_coordinate_chosen_i = int(current_position[0]) + int(moves[i_chosen_move][0])\n",
    "            temp_y_coordinate_chosen_i = int(current_position[1]) + int(moves[i_chosen_move][1])\n",
    "            current_position = (temp_x_coordinate_chosen_i, temp_y_coordinate_chosen_i)  \n",
    "            if ( 0 <= temp_x_coordinate_i < reference ) and ( 0 <=  temp_y_coordinate_i < reference ):\n",
    "                sequence.append(board[int(current_position[0]), int(current_position[1])])\n",
    "                x_coordinates.append(temp_x_coordinate_chosen_i)\n",
    "                y_coordinates.append(temp_y_coordinate_chosen_i)\n",
    "    n = int(len(board) / 2)\n",
    "    for _ in range (len(sequence)):\n",
    "        x_coordinates[_] -= n\n",
    "        x_coordinates[_] *= (-1)\n",
    "        y_coordinates[_] -= n\n",
    "    return ( sequence, x_coordinates, y_coordinates)\n",
    "\n",
    "    \n",
    "\n",
    "    #fig.set_size_inches(10,10)"
   ]
  },
  {
   "cell_type": "code",
   "execution_count": 8,
   "metadata": {},
   "outputs": [
    {
     "data": {
      "text/plain": [
       "([1, 10, 6, 3, 8, 2, 5, 14, 11, 7, 9, 13, 17, 4, 19, 16],\n",
       " [-0.0, -1, 0, 1, -1, 0, 1, 2, 0, -1, -1, 2, 2, 1, 0, 2],\n",
       " [0.0, 2, -1, 1, 0, 1, -1, 1, 2, -1, 1, 2, -2, 0, -2, -1])"
      ]
     },
     "execution_count": 8,
     "metadata": {},
     "output_type": "execute_result"
    }
   ],
   "source": [
    "walk(matrix(2))"
   ]
  },
  {
   "cell_type": "code",
   "execution_count": 9,
   "metadata": {},
   "outputs": [
    {
     "data": {
      "text/plain": [
       "array([[37, 36, 35, 34, 33, 32, 31],\n",
       "       [38, 17, 16, 15, 14, 13, 30],\n",
       "       [39, 18,  5,  4,  3, 12, 29],\n",
       "       [40, 19,  6,  1,  2, 11, 28],\n",
       "       [41, 20,  7,  8,  9, 10, 27],\n",
       "       [42, 21, 22, 23, 24, 25, 26],\n",
       "       [43, 44, 45, 46, 47, 48, 49]])"
      ]
     },
     "execution_count": 9,
     "metadata": {},
     "output_type": "execute_result"
    }
   ],
   "source": [
    "matrix(3)"
   ]
  },
  {
   "cell_type": "code",
   "execution_count": null,
   "metadata": {},
   "outputs": [],
   "source": []
  }
 ],
 "metadata": {
  "kernelspec": {
   "display_name": "Python 3",
   "language": "python",
   "name": "python3"
  },
  "language_info": {
   "name": "python",
   "version": "3.10.11"
  },
  "orig_nbformat": 4
 },
 "nbformat": 4,
 "nbformat_minor": 2
}
