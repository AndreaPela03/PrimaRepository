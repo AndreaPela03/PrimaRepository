{
 "cells": [
  {
   "cell_type": "code",
   "execution_count": 42,
   "metadata": {},
   "outputs": [],
   "source": [
    "from selenium import webdriver\n",
    "from selenium.webdriver.edge.service import Service\n",
    "from webdriver_manager.microsoft  import EdgeChromiumDriverManager\n",
    "from selenium.webdriver.support.wait import WebDriverWait\n",
    "from datetime import datetime\n",
    "import time\n",
    "import csv"
   ]
  },
  {
   "cell_type": "code",
   "execution_count": 43,
   "metadata": {},
   "outputs": [
    {
     "data": {
      "text/plain": [
       "[<selenium.webdriver.remote.webelement.WebElement (session=\"7f6bd9672a08b4fbdda4d868bed69365\", element=\"D92AA030C7443450A78A3A57E43D9D2D_element_59\")>,\n",
       " <selenium.webdriver.remote.webelement.WebElement (session=\"7f6bd9672a08b4fbdda4d868bed69365\", element=\"D92AA030C7443450A78A3A57E43D9D2D_element_60\")>,\n",
       " <selenium.webdriver.remote.webelement.WebElement (session=\"7f6bd9672a08b4fbdda4d868bed69365\", element=\"D92AA030C7443450A78A3A57E43D9D2D_element_61\")>,\n",
       " <selenium.webdriver.remote.webelement.WebElement (session=\"7f6bd9672a08b4fbdda4d868bed69365\", element=\"D92AA030C7443450A78A3A57E43D9D2D_element_62\")>,\n",
       " <selenium.webdriver.remote.webelement.WebElement (session=\"7f6bd9672a08b4fbdda4d868bed69365\", element=\"D92AA030C7443450A78A3A57E43D9D2D_element_63\")>,\n",
       " <selenium.webdriver.remote.webelement.WebElement (session=\"7f6bd9672a08b4fbdda4d868bed69365\", element=\"D92AA030C7443450A78A3A57E43D9D2D_element_64\")>,\n",
       " <selenium.webdriver.remote.webelement.WebElement (session=\"7f6bd9672a08b4fbdda4d868bed69365\", element=\"D92AA030C7443450A78A3A57E43D9D2D_element_65\")>,\n",
       " <selenium.webdriver.remote.webelement.WebElement (session=\"7f6bd9672a08b4fbdda4d868bed69365\", element=\"D92AA030C7443450A78A3A57E43D9D2D_element_66\")>,\n",
       " <selenium.webdriver.remote.webelement.WebElement (session=\"7f6bd9672a08b4fbdda4d868bed69365\", element=\"D92AA030C7443450A78A3A57E43D9D2D_element_67\")>,\n",
       " <selenium.webdriver.remote.webelement.WebElement (session=\"7f6bd9672a08b4fbdda4d868bed69365\", element=\"D92AA030C7443450A78A3A57E43D9D2D_element_68\")>]"
      ]
     },
     "execution_count": 43,
     "metadata": {},
     "output_type": "execute_result"
    }
   ],
   "source": [
    "# get browser, maximise windows, open web page\n",
    "browser = webdriver.Edge(service=Service(EdgeChromiumDriverManager().install()))\n",
    "browser.maximize_window()\n",
    "browser.get('https://www.tripadvisor.com/Hotel_Review-g187849-d2340336-Reviews-Armani_Hotel-Milan_Lombardy.html')\n",
    "# wait for cookies button, click accept\n",
    "cookies_wait = WebDriverWait(browser, timeout=3)\n",
    "cookies_accept = cookies_wait.until(lambda b: b.find_element('xpath','//*[@id=\"onetrust-accept-btn-handler\"]'))\n",
    "cookies_accept.click()\n",
    "expand = browser.find_element('xpath', \".//div[contains(@data-test-target,'expand-review')]\")\n",
    "if expand:\n",
    "    expand.click()\n",
    "reviews = browser.find_elements('xpath', \".//div[@data-reviewid]\")\n",
    "reviews\n"
   ]
  },
  {
   "cell_type": "code",
   "execution_count": 44,
   "metadata": {},
   "outputs": [
    {
     "ename": "InvalidSelectorException",
     "evalue": "Message: invalid selector: Unable to locate an element with the xpath expression .//span[@class=teHYY _R Me S4 H3'] because of the following error:\nSyntaxError: Failed to execute 'evaluate' on 'Document': The string './/span[@class=teHYY _R Me S4 H3']' is not a valid XPath expression.\n  (Session info: MicrosoftEdge=116.0.1938.81); For documentation on this error, please visit: https://www.selenium.dev/documentation/webdriver/troubleshooting/errors#invalid-selector-exception\nStacktrace:\n\tGetHandleVerifier [0x00007FF7B8D73D92+61490]\n\tMicrosoft::Applications::Events::EventProperty::~EventProperty [0x00007FF7B8D05FE2+740626]\n\t(No symbol) [0x00007FF7B8ADB8AE]\n\t(No symbol) [0x00007FF7B8AE0340]\n\t(No symbol) [0x00007FF7B8AE2829]\n\t(No symbol) [0x00007FF7B8AE2910]\n\t(No symbol) [0x00007FF7B8B22FDB]\n\t(No symbol) [0x00007FF7B8B23405]\n\t(No symbol) [0x00007FF7B8B1709C]\n\t(No symbol) [0x00007FF7B8B4394F]\n\t(No symbol) [0x00007FF7B8B17021]\n\t(No symbol) [0x00007FF7B8B16ECD]\n\t(No symbol) [0x00007FF7B8B43C40]\n\t(No symbol) [0x00007FF7B8B17021]\n\t(No symbol) [0x00007FF7B8B5CE21]\n\t(No symbol) [0x00007FF7B8B436E3]\n\t(No symbol) [0x00007FF7B8B15EAA]\n\t(No symbol) [0x00007FF7B8B1518B]\n\t(No symbol) [0x00007FF7B8B16634]\n\tMicrosoft::Applications::Events::ILogManager::DispatchEventBroadcast [0x00007FF7B8F38D49+1207369]\n\t(No symbol) [0x00007FF7B8B95304]\n\tMicrosoft::Applications::Events::EventProperty::~EventProperty [0x00007FF7B8C590E1+32273]\n\tMicrosoft::Applications::Events::EventProperty::~EventProperty [0x00007FF7B8C519D9+1801]\n\tMicrosoft::Applications::Events::ILogManager::DispatchEventBroadcast [0x00007FF7B8F37924+1202212]\n\tMicrosoft::Applications::Events::ILogConfiguration::operator* [0x00007FF7B8D0E978+19784]\n\tMicrosoft::Applications::Events::ILogConfiguration::operator* [0x00007FF7B8D0AE34+4612]\n\tMicrosoft::Applications::Events::ILogConfiguration::operator* [0x00007FF7B8D0AF66+4918]\n\tMicrosoft::Applications::Events::EventProperty::~EventProperty [0x00007FF7B8CFF431+713057]\n\tBaseThreadInitThunk [0x00007FF926ED257D+29]\n\tRtlUserThreadStart [0x00007FF92846AA68+40]\n",
     "output_type": "error",
     "traceback": [
      "\u001b[1;31m---------------------------------------------------------------------------\u001b[0m",
      "\u001b[1;31mInvalidSelectorException\u001b[0m                  Traceback (most recent call last)",
      "\u001b[1;32mUntitled-1.ipynb Cell 3\u001b[0m line \u001b[0;36m1\n\u001b[0;32m      <a href='vscode-notebook-cell:Untitled-1.ipynb?jupyter-notebook#X11sdW50aXRsZWQ%3D?line=6'>7</a>\u001b[0m rating_rubble \u001b[39m=\u001b[39m review\u001b[39m.\u001b[39mfind_element(\u001b[39m'\u001b[39m\u001b[39mxpath\u001b[39m\u001b[39m'\u001b[39m,\u001b[39m\"\u001b[39m\u001b[39m.//span[contains(@class, \u001b[39m\u001b[39m'\u001b[39m\u001b[39mui_bubble_rating bubble_\u001b[39m\u001b[39m'\u001b[39m\u001b[39m)]\u001b[39m\u001b[39m\"\u001b[39m)\n\u001b[0;32m      <a href='vscode-notebook-cell:Untitled-1.ipynb?jupyter-notebook#X11sdW50aXRsZWQ%3D?line=7'>8</a>\u001b[0m score \u001b[39m=\u001b[39m rating_rubble\u001b[39m.\u001b[39mget_attribute(\u001b[39m\"\u001b[39m\u001b[39mclass\u001b[39m\u001b[39m\"\u001b[39m)\u001b[39m.\u001b[39msplit(\u001b[39m\"\u001b[39m\u001b[39m_\u001b[39m\u001b[39m\"\u001b[39m)[\u001b[39m3\u001b[39m]\n\u001b[1;32m---> <a href='vscode-notebook-cell:Untitled-1.ipynb?jupyter-notebook#X11sdW50aXRsZWQ%3D?line=9'>10</a>\u001b[0m date_ob \u001b[39m=\u001b[39m review\u001b[39m.\u001b[39;49mfind_element(\u001b[39m'\u001b[39;49m\u001b[39mxpath\u001b[39;49m\u001b[39m'\u001b[39;49m,\u001b[39m\"\u001b[39;49m\u001b[39m.//span[@class=teHYY _R Me S4 H3\u001b[39;49m\u001b[39m'\u001b[39;49m\u001b[39m]\u001b[39;49m\u001b[39m\"\u001b[39;49m)\n\u001b[0;32m     <a href='vscode-notebook-cell:Untitled-1.ipynb?jupyter-notebook#X11sdW50aXRsZWQ%3D?line=10'>11</a>\u001b[0m date_rec \u001b[39m=\u001b[39m date_ob\u001b[39m.\u001b[39mtext\u001b[39m.\u001b[39mreplace(\u001b[39m\"\u001b[39m\u001b[39mDate of stay:\u001b[39m\u001b[39m\"\u001b[39m,\u001b[39m'\u001b[39m\u001b[39m'\u001b[39m)\n\u001b[0;32m     <a href='vscode-notebook-cell:Untitled-1.ipynb?jupyter-notebook#X11sdW50aXRsZWQ%3D?line=11'>12</a>\u001b[0m date \u001b[39m=\u001b[39m datetime\u001b[39m.\u001b[39mstrptime(date_rec,\u001b[39m'\u001b[39m\u001b[39m%\u001b[39m\u001b[39mB \u001b[39m\u001b[39m%\u001b[39m\u001b[39mY\u001b[39m\u001b[39m'\u001b[39m)\n",
      "File \u001b[1;32m~\\AppData\\Local\\Packages\\PythonSoftwareFoundation.Python.3.10_qbz5n2kfra8p0\\LocalCache\\local-packages\\Python310\\site-packages\\selenium\\webdriver\\remote\\webelement.py:416\u001b[0m, in \u001b[0;36mWebElement.find_element\u001b[1;34m(self, by, value)\u001b[0m\n\u001b[0;32m    413\u001b[0m     by \u001b[39m=\u001b[39m By\u001b[39m.\u001b[39mCSS_SELECTOR\n\u001b[0;32m    414\u001b[0m     value \u001b[39m=\u001b[39m \u001b[39mf\u001b[39m\u001b[39m'\u001b[39m\u001b[39m[name=\u001b[39m\u001b[39m\"\u001b[39m\u001b[39m{\u001b[39;00mvalue\u001b[39m}\u001b[39;00m\u001b[39m\"\u001b[39m\u001b[39m]\u001b[39m\u001b[39m'\u001b[39m\n\u001b[1;32m--> 416\u001b[0m \u001b[39mreturn\u001b[39;00m \u001b[39mself\u001b[39;49m\u001b[39m.\u001b[39;49m_execute(Command\u001b[39m.\u001b[39;49mFIND_CHILD_ELEMENT, {\u001b[39m\"\u001b[39;49m\u001b[39musing\u001b[39;49m\u001b[39m\"\u001b[39;49m: by, \u001b[39m\"\u001b[39;49m\u001b[39mvalue\u001b[39;49m\u001b[39m\"\u001b[39;49m: value})[\u001b[39m\"\u001b[39m\u001b[39mvalue\u001b[39m\u001b[39m\"\u001b[39m]\n",
      "File \u001b[1;32m~\\AppData\\Local\\Packages\\PythonSoftwareFoundation.Python.3.10_qbz5n2kfra8p0\\LocalCache\\local-packages\\Python310\\site-packages\\selenium\\webdriver\\remote\\webelement.py:394\u001b[0m, in \u001b[0;36mWebElement._execute\u001b[1;34m(self, command, params)\u001b[0m\n\u001b[0;32m    392\u001b[0m     params \u001b[39m=\u001b[39m {}\n\u001b[0;32m    393\u001b[0m params[\u001b[39m\"\u001b[39m\u001b[39mid\u001b[39m\u001b[39m\"\u001b[39m] \u001b[39m=\u001b[39m \u001b[39mself\u001b[39m\u001b[39m.\u001b[39m_id\n\u001b[1;32m--> 394\u001b[0m \u001b[39mreturn\u001b[39;00m \u001b[39mself\u001b[39;49m\u001b[39m.\u001b[39;49m_parent\u001b[39m.\u001b[39;49mexecute(command, params)\n",
      "File \u001b[1;32m~\\AppData\\Local\\Packages\\PythonSoftwareFoundation.Python.3.10_qbz5n2kfra8p0\\LocalCache\\local-packages\\Python310\\site-packages\\selenium\\webdriver\\remote\\webdriver.py:344\u001b[0m, in \u001b[0;36mWebDriver.execute\u001b[1;34m(self, driver_command, params)\u001b[0m\n\u001b[0;32m    342\u001b[0m response \u001b[39m=\u001b[39m \u001b[39mself\u001b[39m\u001b[39m.\u001b[39mcommand_executor\u001b[39m.\u001b[39mexecute(driver_command, params)\n\u001b[0;32m    343\u001b[0m \u001b[39mif\u001b[39;00m response:\n\u001b[1;32m--> 344\u001b[0m     \u001b[39mself\u001b[39;49m\u001b[39m.\u001b[39;49merror_handler\u001b[39m.\u001b[39;49mcheck_response(response)\n\u001b[0;32m    345\u001b[0m     response[\u001b[39m\"\u001b[39m\u001b[39mvalue\u001b[39m\u001b[39m\"\u001b[39m] \u001b[39m=\u001b[39m \u001b[39mself\u001b[39m\u001b[39m.\u001b[39m_unwrap_value(response\u001b[39m.\u001b[39mget(\u001b[39m\"\u001b[39m\u001b[39mvalue\u001b[39m\u001b[39m\"\u001b[39m, \u001b[39mNone\u001b[39;00m))\n\u001b[0;32m    346\u001b[0m     \u001b[39mreturn\u001b[39;00m response\n",
      "File \u001b[1;32m~\\AppData\\Local\\Packages\\PythonSoftwareFoundation.Python.3.10_qbz5n2kfra8p0\\LocalCache\\local-packages\\Python310\\site-packages\\selenium\\webdriver\\remote\\errorhandler.py:229\u001b[0m, in \u001b[0;36mErrorHandler.check_response\u001b[1;34m(self, response)\u001b[0m\n\u001b[0;32m    227\u001b[0m         alert_text \u001b[39m=\u001b[39m value[\u001b[39m\"\u001b[39m\u001b[39malert\u001b[39m\u001b[39m\"\u001b[39m]\u001b[39m.\u001b[39mget(\u001b[39m\"\u001b[39m\u001b[39mtext\u001b[39m\u001b[39m\"\u001b[39m)\n\u001b[0;32m    228\u001b[0m     \u001b[39mraise\u001b[39;00m exception_class(message, screen, stacktrace, alert_text)  \u001b[39m# type: ignore[call-arg]  # mypy is not smart enough here\u001b[39;00m\n\u001b[1;32m--> 229\u001b[0m \u001b[39mraise\u001b[39;00m exception_class(message, screen, stacktrace)\n",
      "\u001b[1;31mInvalidSelectorException\u001b[0m: Message: invalid selector: Unable to locate an element with the xpath expression .//span[@class=teHYY _R Me S4 H3'] because of the following error:\nSyntaxError: Failed to execute 'evaluate' on 'Document': The string './/span[@class=teHYY _R Me S4 H3']' is not a valid XPath expression.\n  (Session info: MicrosoftEdge=116.0.1938.81); For documentation on this error, please visit: https://www.selenium.dev/documentation/webdriver/troubleshooting/errors#invalid-selector-exception\nStacktrace:\n\tGetHandleVerifier [0x00007FF7B8D73D92+61490]\n\tMicrosoft::Applications::Events::EventProperty::~EventProperty [0x00007FF7B8D05FE2+740626]\n\t(No symbol) [0x00007FF7B8ADB8AE]\n\t(No symbol) [0x00007FF7B8AE0340]\n\t(No symbol) [0x00007FF7B8AE2829]\n\t(No symbol) [0x00007FF7B8AE2910]\n\t(No symbol) [0x00007FF7B8B22FDB]\n\t(No symbol) [0x00007FF7B8B23405]\n\t(No symbol) [0x00007FF7B8B1709C]\n\t(No symbol) [0x00007FF7B8B4394F]\n\t(No symbol) [0x00007FF7B8B17021]\n\t(No symbol) [0x00007FF7B8B16ECD]\n\t(No symbol) [0x00007FF7B8B43C40]\n\t(No symbol) [0x00007FF7B8B17021]\n\t(No symbol) [0x00007FF7B8B5CE21]\n\t(No symbol) [0x00007FF7B8B436E3]\n\t(No symbol) [0x00007FF7B8B15EAA]\n\t(No symbol) [0x00007FF7B8B1518B]\n\t(No symbol) [0x00007FF7B8B16634]\n\tMicrosoft::Applications::Events::ILogManager::DispatchEventBroadcast [0x00007FF7B8F38D49+1207369]\n\t(No symbol) [0x00007FF7B8B95304]\n\tMicrosoft::Applications::Events::EventProperty::~EventProperty [0x00007FF7B8C590E1+32273]\n\tMicrosoft::Applications::Events::EventProperty::~EventProperty [0x00007FF7B8C519D9+1801]\n\tMicrosoft::Applications::Events::ILogManager::DispatchEventBroadcast [0x00007FF7B8F37924+1202212]\n\tMicrosoft::Applications::Events::ILogConfiguration::operator* [0x00007FF7B8D0E978+19784]\n\tMicrosoft::Applications::Events::ILogConfiguration::operator* [0x00007FF7B8D0AE34+4612]\n\tMicrosoft::Applications::Events::ILogConfiguration::operator* [0x00007FF7B8D0AF66+4918]\n\tMicrosoft::Applications::Events::EventProperty::~EventProperty [0x00007FF7B8CFF431+713057]\n\tBaseThreadInitThunk [0x00007FF926ED257D+29]\n\tRtlUserThreadStart [0x00007FF92846AA68+40]\n"
     ]
    }
   ],
   "source": [
    "with open('ArmaniHotelReviews.csv','w',encoding='utf-8') as csvFile:\n",
    "    csvWriter = csv.writer(csvFile)\n",
    "    for i in range(10):\n",
    "        time.sleep(6)\n",
    "        \n",
    "        for review in reviews:\n",
    "            rating_rubble = review.find_element('xpath',\".//span[contains(@class, 'ui_bubble_rating bubble_')]\")\n",
    "            score = rating_rubble.get_attribute(\"class\").split(\"_\")[3]\n",
    "\n",
    "            date_ob = review.find_element('xpath',\".//span[@class=teHYY _R Me S4 H3']\")\n",
    "            date_rec = date_ob.text.replace(\"Date of stay:\",'')\n",
    "            date = datetime.strptime(date_rec,'%B %Y')\n",
    "            title = review.find_element('xpath', \".//div[contains(@data-test-target,'review-title')]\").text\n",
    "            comment = review.find_element('xpath',\".//span[@class = 'QewHA H4 _a']\").text.replace(\"\\n\",\"  \")\n",
    "            csvWriter.writerow([score,date.year,date.month,title,comment])\n",
    "        browser.find_element('xpath', './/a[@class=\"ui_button nav next primary \"]').click()"
   ]
  }
 ],
 "metadata": {
  "kernelspec": {
   "display_name": "Python 3",
   "language": "python",
   "name": "python3"
  },
  "language_info": {
   "codemirror_mode": {
    "name": "ipython",
    "version": 3
   },
   "file_extension": ".py",
   "mimetype": "text/x-python",
   "name": "python",
   "nbconvert_exporter": "python",
   "pygments_lexer": "ipython3",
   "version": "3.10.11"
  },
  "orig_nbformat": 4
 },
 "nbformat": 4,
 "nbformat_minor": 2
}
