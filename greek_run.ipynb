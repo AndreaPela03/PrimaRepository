{
 "cells": [
  {
   "cell_type": "code",
   "execution_count": 9,
   "metadata": {},
   "outputs": [],
   "source": [
    "import matplotlib.pyplot as plt\n",
    "import numpy as np\n",
    "from IPython import display"
   ]
  },
  {
   "cell_type": "code",
   "execution_count": 12,
   "metadata": {},
   "outputs": [
    {
     "ename": "IndexError",
     "evalue": "too many indices for array: array is 0-dimensional, but 1 were indexed",
     "output_type": "error",
     "traceback": [
      "\u001b[1;31m---------------------------------------------------------------------------\u001b[0m",
      "\u001b[1;31mIndexError\u001b[0m                                Traceback (most recent call last)",
      "\u001b[1;32mc:\\Users\\AndreaPelachini\\Downloads\\greek_run.ipynb Cell 2\u001b[0m line \u001b[0;36m2\n\u001b[0;32m     <a href='vscode-notebook-cell:/c%3A/Users/AndreaPelachini/Downloads/greek_run.ipynb#W2sZmlsZQ%3D%3D?line=18'>19</a>\u001b[0m positions_to_remove \u001b[39m=\u001b[39m []\n\u001b[0;32m     <a href='vscode-notebook-cell:/c%3A/Users/AndreaPelachini/Downloads/greek_run.ipynb#W2sZmlsZQ%3D%3D?line=19'>20</a>\u001b[0m \u001b[39mfor\u001b[39;00m player_name, position \u001b[39min\u001b[39;00m players\u001b[39m.\u001b[39mitems():\n\u001b[1;32m---> <a href='vscode-notebook-cell:/c%3A/Users/AndreaPelachini/Downloads/greek_run.ipynb#W2sZmlsZQ%3D%3D?line=20'>21</a>\u001b[0m     plot(players)\n\u001b[0;32m     <a href='vscode-notebook-cell:/c%3A/Users/AndreaPelachini/Downloads/greek_run.ipynb#W2sZmlsZQ%3D%3D?line=21'>22</a>\u001b[0m     \u001b[39mif\u001b[39;00m position \u001b[39m>\u001b[39m\u001b[39m=\u001b[39m (\u001b[39m100\u001b[39m, \u001b[39m0\u001b[39m) \u001b[39mor\u001b[39;00m position \u001b[39m<\u001b[39m\u001b[39m=\u001b[39m (\u001b[39m0\u001b[39m, \u001b[39m0\u001b[39m):\n\u001b[0;32m     <a href='vscode-notebook-cell:/c%3A/Users/AndreaPelachini/Downloads/greek_run.ipynb#W2sZmlsZQ%3D%3D?line=22'>23</a>\u001b[0m         positions_to_remove\u001b[39m.\u001b[39mappend(player_name)\n",
      "\u001b[1;32mc:\\Users\\AndreaPelachini\\Downloads\\greek_run.ipynb Cell 2\u001b[0m line \u001b[0;36m3\n\u001b[0;32m      <a href='vscode-notebook-cell:/c%3A/Users/AndreaPelachini/Downloads/greek_run.ipynb#W2sZmlsZQ%3D%3D?line=0'>1</a>\u001b[0m \u001b[39mdef\u001b[39;00m \u001b[39mplot\u001b[39m(players):\n\u001b[0;32m      <a href='vscode-notebook-cell:/c%3A/Users/AndreaPelachini/Downloads/greek_run.ipynb#W2sZmlsZQ%3D%3D?line=1'>2</a>\u001b[0m     position \u001b[39m=\u001b[39m np\u001b[39m.\u001b[39masarray(players\u001b[39m.\u001b[39mvalues())\n\u001b[1;32m----> <a href='vscode-notebook-cell:/c%3A/Users/AndreaPelachini/Downloads/greek_run.ipynb#W2sZmlsZQ%3D%3D?line=2'>3</a>\u001b[0m     plt\u001b[39m.\u001b[39mplot(position[\u001b[39m0\u001b[39;49m], position[\u001b[39m1\u001b[39m], color\u001b[39m=\u001b[39m\u001b[39m'\u001b[39m\u001b[39mgreen\u001b[39m\u001b[39m'\u001b[39m, marker\u001b[39m=\u001b[39m\u001b[39m'\u001b[39m\u001b[39mo\u001b[39m\u001b[39m'\u001b[39m, linestyle\u001b[39m=\u001b[39m\u001b[39m'\u001b[39m\u001b[39mdashed\u001b[39m\u001b[39m'\u001b[39m)\n\u001b[0;32m      <a href='vscode-notebook-cell:/c%3A/Users/AndreaPelachini/Downloads/greek_run.ipynb#W2sZmlsZQ%3D%3D?line=3'>4</a>\u001b[0m     plt\u001b[39m.\u001b[39mtitle(\u001b[39m'\u001b[39m\u001b[39mPosizione dei giocatori\u001b[39m\u001b[39m'\u001b[39m)\n\u001b[0;32m      <a href='vscode-notebook-cell:/c%3A/Users/AndreaPelachini/Downloads/greek_run.ipynb#W2sZmlsZQ%3D%3D?line=4'>5</a>\u001b[0m     plt\u001b[39m.\u001b[39mlegend()\n",
      "\u001b[1;31mIndexError\u001b[0m: too many indices for array: array is 0-dimensional, but 1 were indexed"
     ]
    }
   ],
   "source": [
    "def plot(players):\n",
    "    position = np.asarray(players.values())\n",
    "    plt.plot(position, color='green', marker='o', linestyle='dashed')\n",
    "    plt.title('Posizione dei giocatori')\n",
    "    plt.legend()\n",
    "    plt.show()\n",
    "    display.clear_output\n",
    "\n",
    "players = {\n",
    "    \"player1\": (0, 0),\n",
    "    \"player2\": (20, 0),\n",
    "    \"player3\": (40, 0),\n",
    "    \"player4\": (60, 0),\n",
    "    \"player5\": (80, 0)\n",
    "}\n",
    "game = True\n",
    "last_removed_player = None\n",
    "while game:\n",
    "    positions_to_remove = []\n",
    "    for player_name, position in players.items():\n",
    "        plot(players)\n",
    "        if position >= (100, 0) or position <= (0, 0):\n",
    "            positions_to_remove.append(player_name)\n",
    "        else:\n",
    "            new_position = (position[0] + 1, position[1])\n",
    "            players[player_name] = new_position\n",
    "    for player_name in positions_to_remove:\n",
    "        last_removed_player = player_name\n",
    "        del players[player_name]\n",
    "    \n",
    "    if not players:\n",
    "        game = False\n",
    "print(f\"il giocatore che perde è il : {last_removed_player}\")\n"
   ]
  },
  {
   "cell_type": "code",
   "execution_count": null,
   "metadata": {},
   "outputs": [],
   "source": []
  }
 ],
 "metadata": {
  "kernelspec": {
   "display_name": "Python 3",
   "language": "python",
   "name": "python3"
  },
  "language_info": {
   "codemirror_mode": {
    "name": "ipython",
    "version": 3
   },
   "file_extension": ".py",
   "mimetype": "text/x-python",
   "name": "python",
   "nbconvert_exporter": "python",
   "pygments_lexer": "ipython3",
   "version": "3.10.11"
  },
  "orig_nbformat": 4
 },
 "nbformat": 4,
 "nbformat_minor": 2
}
